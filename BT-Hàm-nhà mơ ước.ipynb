{
 "cells": [
  {
   "cell_type": "code",
   "execution_count": null,
   "id": "28ff6bac",
   "metadata": {},
   "outputs": [],
   "source": [
    "import turtle\n",
    "t = turtle.Turtle()\n",
    "\n",
    "t.speed(0)\n",
    "\n",
    "#vẽ ngôi nhà\n",
    "\n",
    "def draw_rectangle(a,b,color,x,y):\n",
    "    t.penup()\n",
    "    t.goto(x,y)\n",
    "    t.pendown()\n",
    "    \n",
    "    t.fillcolor (color)\n",
    "    t.begin_fill()\n",
    "    for i in range(2):\n",
    "        t.forward(a)\n",
    "        t.left(90)\n",
    "        t.forward(b)\n",
    "        t.left(90)      \n",
    "    t.end_fill()\n",
    "    \n",
    "def draw_circle(r,x,y):\n",
    "    t.penup()\n",
    "    t.goto(x,y)\n",
    "    t.pendown()\n",
    "    \n",
    "    t.fillcolor ('green')\n",
    "    t.begin_fill()\n",
    "    t.circle (r)\n",
    "    t.end_fill()\n",
    "\n",
    "draw_rectangle(100,150,\"blue\",-100,-150)\n",
    "draw_rectangle(25,60,\"white\",-75,-120)\n",
    "draw_rectangle(100,150,\"red\",-100,0)\n",
    "draw_rectangle(25,60,\"white\",-75,30)\n",
    "\n",
    "#vẽ cây\n",
    "draw_rectangle(25,100,\"brown\",50,-150)\n",
    "draw_circle(100,65,-50)\n",
    "draw_rectangle(20,100,\"brown\",150,-130)\n",
    "draw_circle(100,175,-50)"
   ]
  }
 ],
 "metadata": {
  "kernelspec": {
   "display_name": "Python 3 (ipykernel)",
   "language": "python",
   "name": "python3"
  },
  "language_info": {
   "codemirror_mode": {
    "name": "ipython",
    "version": 3
   },
   "file_extension": ".py",
   "mimetype": "text/x-python",
   "name": "python",
   "nbconvert_exporter": "python",
   "pygments_lexer": "ipython3",
   "version": "3.10.4"
  }
 },
 "nbformat": 4,
 "nbformat_minor": 5
}
